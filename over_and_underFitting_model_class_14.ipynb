{
 "cells": [
  {
   "cell_type": "code",
   "execution_count": 1,
   "id": "c8f201fb",
   "metadata": {},
   "outputs": [],
   "source": [
    "import pandas as pd\n",
    "from sklearn.datasets import make_classification   #make_regression for regression data\n",
    "from matplotlib import pyplot as plt"
   ]
  },
  {
   "cell_type": "code",
   "execution_count": 2,
   "id": "de566659",
   "metadata": {},
   "outputs": [],
   "source": [
    "x, y = make_classification(n_samples= 60000, n_features=25)  #60k sampple, 25 features"
   ]
  },
  {
   "cell_type": "code",
   "execution_count": 3,
   "id": "2359f7b0",
   "metadata": {},
   "outputs": [
    {
     "data": {
      "text/plain": [
       "(60000, 25)"
      ]
     },
     "execution_count": 3,
     "metadata": {},
     "output_type": "execute_result"
    }
   ],
   "source": [
    "x.shape"
   ]
  },
  {
   "cell_type": "code",
   "execution_count": 4,
   "id": "e6bb905f",
   "metadata": {},
   "outputs": [
    {
     "data": {
      "text/plain": [
       "(60000,)"
      ]
     },
     "execution_count": 4,
     "metadata": {},
     "output_type": "execute_result"
    }
   ],
   "source": [
    "y.shape"
   ]
  },
  {
   "cell_type": "code",
   "execution_count": 5,
   "id": "62deacae",
   "metadata": {},
   "outputs": [],
   "source": [
    "y = pd.DataFrame(y)"
   ]
  },
  {
   "cell_type": "code",
   "execution_count": 6,
   "id": "22e8d3b4",
   "metadata": {},
   "outputs": [
    {
     "data": {
      "text/plain": [
       "0    30012\n",
       "1    29988\n",
       "dtype: int64"
      ]
     },
     "execution_count": 6,
     "metadata": {},
     "output_type": "execute_result"
    }
   ],
   "source": [
    "y.value_counts()"
   ]
  },
  {
   "cell_type": "code",
   "execution_count": 7,
   "id": "acbe16fa",
   "metadata": {},
   "outputs": [
    {
     "data": {
      "text/html": [
       "<div>\n",
       "<style scoped>\n",
       "    .dataframe tbody tr th:only-of-type {\n",
       "        vertical-align: middle;\n",
       "    }\n",
       "\n",
       "    .dataframe tbody tr th {\n",
       "        vertical-align: top;\n",
       "    }\n",
       "\n",
       "    .dataframe thead th {\n",
       "        text-align: right;\n",
       "    }\n",
       "</style>\n",
       "<table border=\"1\" class=\"dataframe\">\n",
       "  <thead>\n",
       "    <tr style=\"text-align: right;\">\n",
       "      <th></th>\n",
       "      <th>0</th>\n",
       "      <th>1</th>\n",
       "      <th>2</th>\n",
       "      <th>3</th>\n",
       "      <th>4</th>\n",
       "      <th>5</th>\n",
       "      <th>6</th>\n",
       "      <th>7</th>\n",
       "      <th>8</th>\n",
       "      <th>9</th>\n",
       "      <th>...</th>\n",
       "      <th>15</th>\n",
       "      <th>16</th>\n",
       "      <th>17</th>\n",
       "      <th>18</th>\n",
       "      <th>19</th>\n",
       "      <th>20</th>\n",
       "      <th>21</th>\n",
       "      <th>22</th>\n",
       "      <th>23</th>\n",
       "      <th>24</th>\n",
       "    </tr>\n",
       "  </thead>\n",
       "  <tbody>\n",
       "    <tr>\n",
       "      <th>0</th>\n",
       "      <td>-0.701796</td>\n",
       "      <td>-0.055424</td>\n",
       "      <td>1.563609</td>\n",
       "      <td>0.772744</td>\n",
       "      <td>-0.369100</td>\n",
       "      <td>-0.381954</td>\n",
       "      <td>0.993831</td>\n",
       "      <td>1.005248</td>\n",
       "      <td>-1.600547</td>\n",
       "      <td>0.532776</td>\n",
       "      <td>...</td>\n",
       "      <td>0.498830</td>\n",
       "      <td>-1.212397</td>\n",
       "      <td>-0.032592</td>\n",
       "      <td>-1.160803</td>\n",
       "      <td>-0.245705</td>\n",
       "      <td>-1.138839</td>\n",
       "      <td>0.392152</td>\n",
       "      <td>0.999303</td>\n",
       "      <td>1.389163</td>\n",
       "      <td>-0.288800</td>\n",
       "    </tr>\n",
       "    <tr>\n",
       "      <th>1</th>\n",
       "      <td>-0.847043</td>\n",
       "      <td>0.975168</td>\n",
       "      <td>-2.152966</td>\n",
       "      <td>0.594535</td>\n",
       "      <td>-0.734304</td>\n",
       "      <td>-0.439441</td>\n",
       "      <td>-0.506237</td>\n",
       "      <td>2.043206</td>\n",
       "      <td>-0.322060</td>\n",
       "      <td>-0.480982</td>\n",
       "      <td>...</td>\n",
       "      <td>0.069239</td>\n",
       "      <td>0.937115</td>\n",
       "      <td>-0.552202</td>\n",
       "      <td>0.205924</td>\n",
       "      <td>-0.948222</td>\n",
       "      <td>0.937182</td>\n",
       "      <td>0.288954</td>\n",
       "      <td>-1.047047</td>\n",
       "      <td>-0.287198</td>\n",
       "      <td>-1.060402</td>\n",
       "    </tr>\n",
       "    <tr>\n",
       "      <th>2</th>\n",
       "      <td>-1.038188</td>\n",
       "      <td>0.496721</td>\n",
       "      <td>0.726723</td>\n",
       "      <td>0.827576</td>\n",
       "      <td>0.098858</td>\n",
       "      <td>0.700263</td>\n",
       "      <td>-0.118211</td>\n",
       "      <td>-0.843282</td>\n",
       "      <td>0.932272</td>\n",
       "      <td>-0.792054</td>\n",
       "      <td>...</td>\n",
       "      <td>0.053270</td>\n",
       "      <td>0.913993</td>\n",
       "      <td>1.147022</td>\n",
       "      <td>0.653153</td>\n",
       "      <td>-1.616494</td>\n",
       "      <td>0.868555</td>\n",
       "      <td>0.010558</td>\n",
       "      <td>-0.498531</td>\n",
       "      <td>0.500838</td>\n",
       "      <td>1.527548</td>\n",
       "    </tr>\n",
       "    <tr>\n",
       "      <th>3</th>\n",
       "      <td>0.133282</td>\n",
       "      <td>-2.128963</td>\n",
       "      <td>-0.051844</td>\n",
       "      <td>1.385214</td>\n",
       "      <td>0.143612</td>\n",
       "      <td>-0.968380</td>\n",
       "      <td>-1.286091</td>\n",
       "      <td>-0.499455</td>\n",
       "      <td>-1.805465</td>\n",
       "      <td>-0.724703</td>\n",
       "      <td>...</td>\n",
       "      <td>-1.019634</td>\n",
       "      <td>-2.369632</td>\n",
       "      <td>0.420374</td>\n",
       "      <td>-0.233599</td>\n",
       "      <td>-0.980192</td>\n",
       "      <td>-2.274157</td>\n",
       "      <td>-0.188674</td>\n",
       "      <td>1.960963</td>\n",
       "      <td>0.946028</td>\n",
       "      <td>-0.244348</td>\n",
       "    </tr>\n",
       "    <tr>\n",
       "      <th>4</th>\n",
       "      <td>0.072980</td>\n",
       "      <td>-0.399968</td>\n",
       "      <td>0.509317</td>\n",
       "      <td>1.874273</td>\n",
       "      <td>1.516307</td>\n",
       "      <td>-0.559798</td>\n",
       "      <td>-0.871400</td>\n",
       "      <td>0.642697</td>\n",
       "      <td>1.029109</td>\n",
       "      <td>-0.767603</td>\n",
       "      <td>...</td>\n",
       "      <td>1.351851</td>\n",
       "      <td>-1.509091</td>\n",
       "      <td>0.208971</td>\n",
       "      <td>-0.422663</td>\n",
       "      <td>-0.874250</td>\n",
       "      <td>-1.527835</td>\n",
       "      <td>-0.312886</td>\n",
       "      <td>0.800479</td>\n",
       "      <td>-0.358829</td>\n",
       "      <td>-1.329442</td>\n",
       "    </tr>\n",
       "    <tr>\n",
       "      <th>...</th>\n",
       "      <td>...</td>\n",
       "      <td>...</td>\n",
       "      <td>...</td>\n",
       "      <td>...</td>\n",
       "      <td>...</td>\n",
       "      <td>...</td>\n",
       "      <td>...</td>\n",
       "      <td>...</td>\n",
       "      <td>...</td>\n",
       "      <td>...</td>\n",
       "      <td>...</td>\n",
       "      <td>...</td>\n",
       "      <td>...</td>\n",
       "      <td>...</td>\n",
       "      <td>...</td>\n",
       "      <td>...</td>\n",
       "      <td>...</td>\n",
       "      <td>...</td>\n",
       "      <td>...</td>\n",
       "      <td>...</td>\n",
       "      <td>...</td>\n",
       "    </tr>\n",
       "    <tr>\n",
       "      <th>59995</th>\n",
       "      <td>-0.939257</td>\n",
       "      <td>0.464581</td>\n",
       "      <td>-0.241426</td>\n",
       "      <td>-0.076507</td>\n",
       "      <td>-0.027858</td>\n",
       "      <td>-1.034120</td>\n",
       "      <td>-0.405229</td>\n",
       "      <td>0.841640</td>\n",
       "      <td>-0.442908</td>\n",
       "      <td>0.645352</td>\n",
       "      <td>...</td>\n",
       "      <td>-1.410457</td>\n",
       "      <td>-0.468416</td>\n",
       "      <td>-1.042298</td>\n",
       "      <td>0.565734</td>\n",
       "      <td>1.244495</td>\n",
       "      <td>-0.446402</td>\n",
       "      <td>-0.989082</td>\n",
       "      <td>1.644145</td>\n",
       "      <td>-1.361552</td>\n",
       "      <td>0.515844</td>\n",
       "    </tr>\n",
       "    <tr>\n",
       "      <th>59996</th>\n",
       "      <td>0.701421</td>\n",
       "      <td>-0.300575</td>\n",
       "      <td>-0.918168</td>\n",
       "      <td>-0.407594</td>\n",
       "      <td>0.129425</td>\n",
       "      <td>-1.091226</td>\n",
       "      <td>0.056736</td>\n",
       "      <td>-1.163647</td>\n",
       "      <td>-0.984637</td>\n",
       "      <td>0.648820</td>\n",
       "      <td>...</td>\n",
       "      <td>-1.214530</td>\n",
       "      <td>-1.383761</td>\n",
       "      <td>1.749625</td>\n",
       "      <td>-0.969095</td>\n",
       "      <td>-1.747107</td>\n",
       "      <td>-1.330551</td>\n",
       "      <td>-0.278242</td>\n",
       "      <td>0.740847</td>\n",
       "      <td>0.671168</td>\n",
       "      <td>0.166610</td>\n",
       "    </tr>\n",
       "    <tr>\n",
       "      <th>59997</th>\n",
       "      <td>-0.294951</td>\n",
       "      <td>-0.529573</td>\n",
       "      <td>1.022403</td>\n",
       "      <td>-0.370809</td>\n",
       "      <td>-0.684251</td>\n",
       "      <td>-0.468177</td>\n",
       "      <td>1.709926</td>\n",
       "      <td>0.610710</td>\n",
       "      <td>-0.104008</td>\n",
       "      <td>0.918634</td>\n",
       "      <td>...</td>\n",
       "      <td>1.210346</td>\n",
       "      <td>1.102702</td>\n",
       "      <td>0.073054</td>\n",
       "      <td>-1.911310</td>\n",
       "      <td>0.795618</td>\n",
       "      <td>1.092742</td>\n",
       "      <td>0.366205</td>\n",
       "      <td>0.201084</td>\n",
       "      <td>0.048702</td>\n",
       "      <td>-0.947187</td>\n",
       "    </tr>\n",
       "    <tr>\n",
       "      <th>59998</th>\n",
       "      <td>-0.075110</td>\n",
       "      <td>1.052419</td>\n",
       "      <td>0.092344</td>\n",
       "      <td>0.096971</td>\n",
       "      <td>1.446094</td>\n",
       "      <td>-0.593934</td>\n",
       "      <td>1.534827</td>\n",
       "      <td>-0.910823</td>\n",
       "      <td>1.004030</td>\n",
       "      <td>0.085565</td>\n",
       "      <td>...</td>\n",
       "      <td>-0.515929</td>\n",
       "      <td>-1.412799</td>\n",
       "      <td>0.278812</td>\n",
       "      <td>-0.271135</td>\n",
       "      <td>0.796625</td>\n",
       "      <td>-1.431829</td>\n",
       "      <td>-0.668950</td>\n",
       "      <td>0.153753</td>\n",
       "      <td>1.820229</td>\n",
       "      <td>0.546798</td>\n",
       "    </tr>\n",
       "    <tr>\n",
       "      <th>59999</th>\n",
       "      <td>-0.515727</td>\n",
       "      <td>1.048655</td>\n",
       "      <td>-0.279787</td>\n",
       "      <td>0.809158</td>\n",
       "      <td>-0.651949</td>\n",
       "      <td>-0.871673</td>\n",
       "      <td>1.570645</td>\n",
       "      <td>-0.252672</td>\n",
       "      <td>-1.083065</td>\n",
       "      <td>-0.530660</td>\n",
       "      <td>...</td>\n",
       "      <td>0.348632</td>\n",
       "      <td>-0.100735</td>\n",
       "      <td>1.913305</td>\n",
       "      <td>-0.121349</td>\n",
       "      <td>1.413448</td>\n",
       "      <td>-0.059938</td>\n",
       "      <td>-0.390923</td>\n",
       "      <td>0.080115</td>\n",
       "      <td>-0.393420</td>\n",
       "      <td>0.313998</td>\n",
       "    </tr>\n",
       "  </tbody>\n",
       "</table>\n",
       "<p>60000 rows × 25 columns</p>\n",
       "</div>"
      ],
      "text/plain": [
       "             0         1         2         3         4         5         6   \\\n",
       "0     -0.701796 -0.055424  1.563609  0.772744 -0.369100 -0.381954  0.993831   \n",
       "1     -0.847043  0.975168 -2.152966  0.594535 -0.734304 -0.439441 -0.506237   \n",
       "2     -1.038188  0.496721  0.726723  0.827576  0.098858  0.700263 -0.118211   \n",
       "3      0.133282 -2.128963 -0.051844  1.385214  0.143612 -0.968380 -1.286091   \n",
       "4      0.072980 -0.399968  0.509317  1.874273  1.516307 -0.559798 -0.871400   \n",
       "...         ...       ...       ...       ...       ...       ...       ...   \n",
       "59995 -0.939257  0.464581 -0.241426 -0.076507 -0.027858 -1.034120 -0.405229   \n",
       "59996  0.701421 -0.300575 -0.918168 -0.407594  0.129425 -1.091226  0.056736   \n",
       "59997 -0.294951 -0.529573  1.022403 -0.370809 -0.684251 -0.468177  1.709926   \n",
       "59998 -0.075110  1.052419  0.092344  0.096971  1.446094 -0.593934  1.534827   \n",
       "59999 -0.515727  1.048655 -0.279787  0.809158 -0.651949 -0.871673  1.570645   \n",
       "\n",
       "             7         8         9   ...        15        16        17  \\\n",
       "0      1.005248 -1.600547  0.532776  ...  0.498830 -1.212397 -0.032592   \n",
       "1      2.043206 -0.322060 -0.480982  ...  0.069239  0.937115 -0.552202   \n",
       "2     -0.843282  0.932272 -0.792054  ...  0.053270  0.913993  1.147022   \n",
       "3     -0.499455 -1.805465 -0.724703  ... -1.019634 -2.369632  0.420374   \n",
       "4      0.642697  1.029109 -0.767603  ...  1.351851 -1.509091  0.208971   \n",
       "...         ...       ...       ...  ...       ...       ...       ...   \n",
       "59995  0.841640 -0.442908  0.645352  ... -1.410457 -0.468416 -1.042298   \n",
       "59996 -1.163647 -0.984637  0.648820  ... -1.214530 -1.383761  1.749625   \n",
       "59997  0.610710 -0.104008  0.918634  ...  1.210346  1.102702  0.073054   \n",
       "59998 -0.910823  1.004030  0.085565  ... -0.515929 -1.412799  0.278812   \n",
       "59999 -0.252672 -1.083065 -0.530660  ...  0.348632 -0.100735  1.913305   \n",
       "\n",
       "             18        19        20        21        22        23        24  \n",
       "0     -1.160803 -0.245705 -1.138839  0.392152  0.999303  1.389163 -0.288800  \n",
       "1      0.205924 -0.948222  0.937182  0.288954 -1.047047 -0.287198 -1.060402  \n",
       "2      0.653153 -1.616494  0.868555  0.010558 -0.498531  0.500838  1.527548  \n",
       "3     -0.233599 -0.980192 -2.274157 -0.188674  1.960963  0.946028 -0.244348  \n",
       "4     -0.422663 -0.874250 -1.527835 -0.312886  0.800479 -0.358829 -1.329442  \n",
       "...         ...       ...       ...       ...       ...       ...       ...  \n",
       "59995  0.565734  1.244495 -0.446402 -0.989082  1.644145 -1.361552  0.515844  \n",
       "59996 -0.969095 -1.747107 -1.330551 -0.278242  0.740847  0.671168  0.166610  \n",
       "59997 -1.911310  0.795618  1.092742  0.366205  0.201084  0.048702 -0.947187  \n",
       "59998 -0.271135  0.796625 -1.431829 -0.668950  0.153753  1.820229  0.546798  \n",
       "59999 -0.121349  1.413448 -0.059938 -0.390923  0.080115 -0.393420  0.313998  \n",
       "\n",
       "[60000 rows x 25 columns]"
      ]
     },
     "execution_count": 7,
     "metadata": {},
     "output_type": "execute_result"
    }
   ],
   "source": [
    "x = pd.DataFrame(x)\n",
    "x"
   ]
  },
  {
   "cell_type": "code",
   "execution_count": 8,
   "id": "65687969",
   "metadata": {},
   "outputs": [],
   "source": [
    "from sklearn.model_selection import train_test_split\n",
    "xtrain, xtest, ytrain, ytest = train_test_split(x, y, random_state=42, test_size=.25)"
   ]
  },
  {
   "cell_type": "code",
   "execution_count": 9,
   "id": "89dd4107",
   "metadata": {},
   "outputs": [
    {
     "data": {
      "text/plain": [
       "(45000, 25)"
      ]
     },
     "execution_count": 9,
     "metadata": {},
     "output_type": "execute_result"
    }
   ],
   "source": [
    "xtrain.shape"
   ]
  },
  {
   "cell_type": "code",
   "execution_count": 10,
   "id": "25fc633a",
   "metadata": {},
   "outputs": [],
   "source": [
    "train_accuracy =[]\n",
    "test_accuracy =[]\n",
    "\n",
    "max_feature =[n for n in range(1,25)] "
   ]
  },
  {
   "cell_type": "code",
   "execution_count": 11,
   "id": "72899688",
   "metadata": {},
   "outputs": [
    {
     "data": {
      "text/plain": [
       "[1,\n",
       " 2,\n",
       " 3,\n",
       " 4,\n",
       " 5,\n",
       " 6,\n",
       " 7,\n",
       " 8,\n",
       " 9,\n",
       " 10,\n",
       " 11,\n",
       " 12,\n",
       " 13,\n",
       " 14,\n",
       " 15,\n",
       " 16,\n",
       " 17,\n",
       " 18,\n",
       " 19,\n",
       " 20,\n",
       " 21,\n",
       " 22,\n",
       " 23,\n",
       " 24]"
      ]
     },
     "execution_count": 11,
     "metadata": {},
     "output_type": "execute_result"
    }
   ],
   "source": [
    "max_feature"
   ]
  },
  {
   "cell_type": "code",
   "execution_count": 12,
   "id": "4a51f998",
   "metadata": {},
   "outputs": [],
   "source": [
    "from sklearn.tree import DecisionTreeClassifier"
   ]
  },
  {
   "cell_type": "code",
   "execution_count": 13,
   "id": "9a4c863e",
   "metadata": {},
   "outputs": [
    {
     "name": "stdout",
     "output_type": "stream",
     "text": [
      "Max_depth = 1, Train_Accuracy = 0.855489, Test_accuracy = 0.850533\n",
      "Max_depth = 2, Train_Accuracy = 0.855489, Test_accuracy = 0.850533\n",
      "Max_depth = 3, Train_Accuracy = 0.865444, Test_accuracy = 0.860733\n",
      "Max_depth = 4, Train_Accuracy = 0.886467, Test_accuracy = 0.882733\n",
      "Max_depth = 5, Train_Accuracy = 0.890600, Test_accuracy = 0.887200\n",
      "Max_depth = 6, Train_Accuracy = 0.897622, Test_accuracy = 0.892600\n",
      "Max_depth = 7, Train_Accuracy = 0.905356, Test_accuracy = 0.895800\n",
      "Max_depth = 8, Train_Accuracy = 0.909044, Test_accuracy = 0.893800\n",
      "Max_depth = 9, Train_Accuracy = 0.914711, Test_accuracy = 0.891800\n",
      "Max_depth = 10, Train_Accuracy = 0.921511, Test_accuracy = 0.888600\n",
      "Max_depth = 11, Train_Accuracy = 0.929311, Test_accuracy = 0.886267\n",
      "Max_depth = 12, Train_Accuracy = 0.938667, Test_accuracy = 0.883000\n",
      "Max_depth = 13, Train_Accuracy = 0.947578, Test_accuracy = 0.881733\n",
      "Max_depth = 14, Train_Accuracy = 0.955289, Test_accuracy = 0.879533\n",
      "Max_depth = 15, Train_Accuracy = 0.962533, Test_accuracy = 0.877200\n",
      "Max_depth = 16, Train_Accuracy = 0.969067, Test_accuracy = 0.871400\n",
      "Max_depth = 17, Train_Accuracy = 0.975578, Test_accuracy = 0.869067\n",
      "Max_depth = 18, Train_Accuracy = 0.980667, Test_accuracy = 0.866733\n",
      "Max_depth = 19, Train_Accuracy = 0.985444, Test_accuracy = 0.865467\n",
      "Max_depth = 20, Train_Accuracy = 0.989600, Test_accuracy = 0.862733\n",
      "Max_depth = 21, Train_Accuracy = 0.993178, Test_accuracy = 0.861133\n",
      "Max_depth = 22, Train_Accuracy = 0.995533, Test_accuracy = 0.861333\n",
      "Max_depth = 23, Train_Accuracy = 0.997333, Test_accuracy = 0.860600\n",
      "Max_depth = 24, Train_Accuracy = 0.998289, Test_accuracy = 0.857667\n"
     ]
    }
   ],
   "source": [
    "for depth in max_feature:\n",
    "    clf = DecisionTreeClassifier(max_depth=depth)\n",
    "    clf.fit(xtrain, ytrain)\n",
    "    \n",
    "    #train_accuracy \n",
    "    train_acc = clf.score(xtrain, ytrain)\n",
    "    train_accuracy.append(train_acc)\n",
    "    \n",
    "    #test_accuracy\n",
    "    test_acc = clf.score(xtest, ytest)\n",
    "    test_accuracy.append(test_acc)\n",
    "    \n",
    "    print(\"Max_depth = %d, Train_Accuracy = %f, Test_accuracy = %f\" %(depth,train_acc,test_acc))"
   ]
  },
  {
   "cell_type": "code",
   "execution_count": 14,
   "id": "c9f84575",
   "metadata": {},
   "outputs": [
    {
     "data": {
      "text/plain": [
       "[<matplotlib.lines.Line2D at 0x214cd5a6040>]"
      ]
     },
     "execution_count": 14,
     "metadata": {},
     "output_type": "execute_result"
    },
    {
     "data": {
      "image/png": "[encoded data removed]",
      "text/plain": [
       "<Figure size 432x288 with 1 Axes>"
      ]
     },
     "metadata": {
      "needs_background": "light"
     },
     "output_type": "display_data"
    }
   ],
   "source": [
    "plt.plot(max_feature, train_accuracy)\n",
    "plt.plot(max_feature, test_accuracy)"
   ]
  },
  {
   "cell_type": "code",
   "execution_count": 17,
   "id": "9da5dda8",
   "metadata": {},
   "outputs": [
    {
     "data": {
      "text/plain": [
       "<matplotlib.legend.Legend at 0x214ce28e730>"
      ]
     },
     "execution_count": 17,
     "metadata": {},
     "output_type": "execute_result"
    },
    {
     "data": {
      "image/png": "[encoded data removed]",
      "text/plain": [
       "<Figure size 432x288 with 1 Axes>"
      ]
     },
     "metadata": {
      "needs_background": "light"
     },
     "output_type": "display_data"
    }
   ],
   "source": [
    "plt.plot(max_feature, train_accuracy, '-o', color ='red', label = 'Training')\n",
    "plt.plot(max_feature, test_accuracy, '-o', color ='green', label = 'Test')\n",
    "plt.legend()"
   ]
  },
  {
   "cell_type": "code",
   "execution_count": null,
   "id": "fa73c648",
   "metadata": {},
   "outputs": [],
   "source": []
  }
 ],
 "metadata": {
  "kernelspec": {
   "display_name": "Python 3 (ipykernel)",
   "language": "python",
   "name": "python3"
  },
  "language_info": {
   "codemirror_mode": {
    "name": "ipython",
    "version": 3
   },
   "file_extension": ".py",
   "mimetype": "text/x-python",
   "name": "python",
   "nbconvert_exporter": "python",
   "pygments_lexer": "ipython3",
   "version": "3.9.12"
  }
 },
 "nbformat": 4,
 "nbformat_minor": 5
}
